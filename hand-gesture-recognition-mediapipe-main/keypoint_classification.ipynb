{
 "cells": [
  {
   "cell_type": "code",
   "execution_count": 133,
   "metadata": {},
   "outputs": [],
   "source": [
    "import csv\n",
    "\n",
    "import numpy as np\n",
    "import tensorflow as tf\n",
    "from sklearn.model_selection import train_test_split\n",
    "\n",
    "RANDOM_SEED = 42"
   ]
  },
  {
   "cell_type": "markdown",
   "metadata": {},
   "source": [
    "# 各パス指定"
   ]
  },
  {
   "cell_type": "code",
   "execution_count": 134,
   "metadata": {},
   "outputs": [],
   "source": [
    "dataset = 'model/keypoint_classifier/keypoint.csv'\n",
    "model_save_path = 'model/keypoint_classifier/keypoint_classifier.hdf5'"
   ]
  },
  {
   "cell_type": "markdown",
   "metadata": {},
   "source": [
    "# 分類数設定"
   ]
  },
  {
   "cell_type": "code",
   "execution_count": 135,
   "metadata": {},
   "outputs": [],
   "source": [
    "NUM_CLASSES = 7"
   ]
  },
  {
   "cell_type": "markdown",
   "metadata": {},
   "source": [
    "# 学習データ読み込み"
   ]
  },
  {
   "cell_type": "code",
   "execution_count": 136,
   "metadata": {},
   "outputs": [],
   "source": [
    "X_dataset = np.loadtxt(dataset, delimiter=',', dtype='float32', usecols=list(range(1, (21 * 2) + 1)))"
   ]
  },
  {
   "cell_type": "code",
   "execution_count": 137,
   "metadata": {},
   "outputs": [],
   "source": [
    "y_dataset = np.loadtxt(dataset, delimiter=',', dtype='int32', usecols=(0))"
   ]
  },
  {
   "cell_type": "code",
   "execution_count": 138,
   "metadata": {},
   "outputs": [],
   "source": [
    "X_train, X_test, y_train, y_test = train_test_split(X_dataset, y_dataset, train_size=0.75, random_state=RANDOM_SEED)"
   ]
  },
  {
   "cell_type": "markdown",
   "metadata": {},
   "source": [
    "# モデル構築"
   ]
  },
  {
   "cell_type": "code",
   "execution_count": 139,
   "metadata": {},
   "outputs": [],
   "source": [
    "model = tf.keras.models.Sequential([\n",
    "    tf.keras.layers.Input((21 * 2, )),\n",
    "    tf.keras.layers.Dropout(0.2),\n",
    "    tf.keras.layers.Dense(20, activation='relu'),\n",
    "    tf.keras.layers.Dropout(0.4),\n",
    "    tf.keras.layers.Dense(10, activation='relu'),\n",
    "    tf.keras.layers.Dense(NUM_CLASSES, activation='softmax')\n",
    "])"
   ]
  },
  {
   "cell_type": "code",
   "execution_count": 140,
   "metadata": {},
   "outputs": [
    {
     "name": "stdout",
     "output_type": "stream",
     "text": [
      "Model: \"sequential_6\"\n",
      "_________________________________________________________________\n",
      " Layer (type)                Output Shape              Param #   \n",
      "=================================================================\n",
      " dropout_12 (Dropout)        (None, 42)                0         \n",
      "                                                                 \n",
      " dense_18 (Dense)            (None, 20)                860       \n",
      "                                                                 \n",
      " dropout_13 (Dropout)        (None, 20)                0         \n",
      "                                                                 \n",
      " dense_19 (Dense)            (None, 10)                210       \n",
      "                                                                 \n",
      " dense_20 (Dense)            (None, 7)                 77        \n",
      "                                                                 \n",
      "=================================================================\n",
      "Total params: 1147 (4.48 KB)\n",
      "Trainable params: 1147 (4.48 KB)\n",
      "Non-trainable params: 0 (0.00 Byte)\n",
      "_________________________________________________________________\n"
     ]
    }
   ],
   "source": [
    "model.summary()  # tf.keras.utils.plot_model(model, show_shapes=True)"
   ]
  },
  {
   "cell_type": "code",
   "execution_count": 141,
   "metadata": {},
   "outputs": [],
   "source": [
    "# モデルチェックポイントのコールバック\n",
    "cp_callback = tf.keras.callbacks.ModelCheckpoint(\n",
    "    model_save_path, verbose=1, save_weights_only=False)\n",
    "# 早期打ち切り用コールバック\n",
    "es_callback = tf.keras.callbacks.EarlyStopping(patience=20, verbose=1)"
   ]
  },
  {
   "cell_type": "code",
   "execution_count": 142,
   "metadata": {},
   "outputs": [],
   "source": [
    "# モデルコンパイル\n",
    "    model.compile(\n",
    "        optimizer='adam',\n",
    "        loss='sparse_categorical_crossentropy',\n",
    "        metrics=['accuracy']\n",
    "    )"
   ]
  },
  {
   "cell_type": "markdown",
   "metadata": {},
   "source": [
    "# モデル訓練"
   ]
  },
  {
   "cell_type": "code",
   "execution_count": 143,
   "metadata": {
    "scrolled": true
   },
   "outputs": [
    {
     "name": "stdout",
     "output_type": "stream",
     "text": [
      "Epoch 1/1000\n",
      " 1/13 [=>............................] - ETA: 15s - loss: 2.3685 - accuracy: 0.0703\n",
      "Epoch 1: saving model to model/keypoint_classifier\\keypoint_classifier.hdf5\n",
      "13/13 [==============================] - 2s 36ms/step - loss: 2.2090 - accuracy: 0.1096 - val_loss: 1.9908 - val_accuracy: 0.3075\n",
      "Epoch 2/1000\n",
      "12/13 [==========================>...] - ETA: 0s - loss: 1.9637 - accuracy: 0.2031"
     ]
    },
    {
     "name": "stderr",
     "output_type": "stream",
     "text": [
      "c:\\users\\user\\appdata\\local\\programs\\python\\python38\\lib\\site-packages\\keras\\src\\engine\\training.py:3000: UserWarning: You are saving your model as an HDF5 file via `model.save()`. This file format is considered legacy. We recommend using instead the native Keras format, e.g. `model.save('my_model.keras')`.\n",
      "  saving_api.save_model(\n"
     ]
    },
    {
     "name": "stdout",
     "output_type": "stream",
     "text": [
      "\n",
      "Epoch 2: saving model to model/keypoint_classifier\\keypoint_classifier.hdf5\n",
      "13/13 [==============================] - 0s 24ms/step - loss: 1.9648 - accuracy: 0.2025 - val_loss: 1.7720 - val_accuracy: 0.3075\n",
      "Epoch 3/1000\n",
      "10/13 [======================>.......] - ETA: 0s - loss: 1.7938 - accuracy: 0.2758\n",
      "Epoch 3: saving model to model/keypoint_classifier\\keypoint_classifier.hdf5\n",
      "13/13 [==============================] - 0s 16ms/step - loss: 1.7806 - accuracy: 0.2824 - val_loss: 1.6112 - val_accuracy: 0.3230\n",
      "Epoch 4/1000\n",
      "12/13 [==========================>...] - ETA: 0s - loss: 1.6508 - accuracy: 0.3685\n",
      "Epoch 4: saving model to model/keypoint_classifier\\keypoint_classifier.hdf5\n",
      "13/13 [==============================] - 0s 14ms/step - loss: 1.6480 - accuracy: 0.3694 - val_loss: 1.4753 - val_accuracy: 0.4797\n",
      "Epoch 5/1000\n",
      " 1/13 [=>............................] - ETA: 0s - loss: 1.5757 - accuracy: 0.4688\n",
      "Epoch 5: saving model to model/keypoint_classifier\\keypoint_classifier.hdf5\n",
      "13/13 [==============================] - 0s 13ms/step - loss: 1.5069 - accuracy: 0.4726 - val_loss: 1.3293 - val_accuracy: 0.5300\n",
      "Epoch 6/1000\n",
      " 1/13 [=>............................] - ETA: 0s - loss: 1.4194 - accuracy: 0.4844\n",
      "Epoch 6: saving model to model/keypoint_classifier\\keypoint_classifier.hdf5\n",
      "13/13 [==============================] - 0s 13ms/step - loss: 1.3820 - accuracy: 0.5242 - val_loss: 1.1838 - val_accuracy: 0.6286\n",
      "Epoch 7/1000\n",
      " 1/13 [=>............................] - ETA: 0s - loss: 1.4065 - accuracy: 0.5781\n",
      "Epoch 7: saving model to model/keypoint_classifier\\keypoint_classifier.hdf5\n",
      "13/13 [==============================] - 0s 13ms/step - loss: 1.2728 - accuracy: 0.5777 - val_loss: 1.0472 - val_accuracy: 0.6654\n",
      "Epoch 8/1000\n",
      " 1/13 [=>............................] - ETA: 0s - loss: 1.2156 - accuracy: 0.6250\n",
      "Epoch 8: saving model to model/keypoint_classifier\\keypoint_classifier.hdf5\n",
      "13/13 [==============================] - 0s 13ms/step - loss: 1.1764 - accuracy: 0.6099 - val_loss: 0.9329 - val_accuracy: 0.7099\n",
      "Epoch 9/1000\n",
      " 1/13 [=>............................] - ETA: 0s - loss: 1.1947 - accuracy: 0.6094\n",
      "Epoch 9: saving model to model/keypoint_classifier\\keypoint_classifier.hdf5\n",
      "13/13 [==============================] - 0s 13ms/step - loss: 1.0750 - accuracy: 0.6557 - val_loss: 0.8359 - val_accuracy: 0.7234\n",
      "Epoch 10/1000\n",
      " 1/13 [=>............................] - ETA: 0s - loss: 1.0926 - accuracy: 0.6016\n",
      "Epoch 10: saving model to model/keypoint_classifier\\keypoint_classifier.hdf5\n",
      "13/13 [==============================] - 0s 13ms/step - loss: 0.9812 - accuracy: 0.6654 - val_loss: 0.7604 - val_accuracy: 0.7215\n",
      "Epoch 11/1000\n",
      " 1/13 [=>............................] - ETA: 0s - loss: 0.9536 - accuracy: 0.6875\n",
      "Epoch 11: saving model to model/keypoint_classifier\\keypoint_classifier.hdf5\n",
      "13/13 [==============================] - 0s 13ms/step - loss: 0.9191 - accuracy: 0.6860 - val_loss: 0.6913 - val_accuracy: 0.7215\n",
      "Epoch 12/1000\n",
      " 1/13 [=>............................] - ETA: 0s - loss: 0.8826 - accuracy: 0.6484\n",
      "Epoch 12: saving model to model/keypoint_classifier\\keypoint_classifier.hdf5\n",
      "13/13 [==============================] - 0s 12ms/step - loss: 0.8695 - accuracy: 0.7047 - val_loss: 0.6269 - val_accuracy: 0.7253\n",
      "Epoch 13/1000\n",
      " 1/13 [=>............................] - ETA: 0s - loss: 0.9108 - accuracy: 0.6484\n",
      "Epoch 13: saving model to model/keypoint_classifier\\keypoint_classifier.hdf5\n",
      "13/13 [==============================] - 0s 13ms/step - loss: 0.8099 - accuracy: 0.7253 - val_loss: 0.5554 - val_accuracy: 0.7988\n",
      "Epoch 14/1000\n",
      " 1/13 [=>............................] - ETA: 0s - loss: 0.8737 - accuracy: 0.6797\n",
      "Epoch 14: saving model to model/keypoint_classifier\\keypoint_classifier.hdf5\n",
      "13/13 [==============================] - 0s 13ms/step - loss: 0.7441 - accuracy: 0.7511 - val_loss: 0.4821 - val_accuracy: 0.8781\n",
      "Epoch 15/1000\n",
      " 1/13 [=>............................] - ETA: 0s - loss: 0.7087 - accuracy: 0.7891\n",
      "Epoch 15: saving model to model/keypoint_classifier\\keypoint_classifier.hdf5\n",
      "13/13 [==============================] - 0s 13ms/step - loss: 0.6976 - accuracy: 0.7769 - val_loss: 0.4171 - val_accuracy: 0.9149\n",
      "Epoch 16/1000\n",
      " 1/13 [=>............................] - ETA: 0s - loss: 0.5470 - accuracy: 0.8281\n",
      "Epoch 16: saving model to model/keypoint_classifier\\keypoint_classifier.hdf5\n",
      "13/13 [==============================] - 0s 13ms/step - loss: 0.6379 - accuracy: 0.7982 - val_loss: 0.3609 - val_accuracy: 0.9768\n",
      "Epoch 17/1000\n",
      " 1/13 [=>............................] - ETA: 0s - loss: 0.6100 - accuracy: 0.8047\n",
      "Epoch 17: saving model to model/keypoint_classifier\\keypoint_classifier.hdf5\n",
      "13/13 [==============================] - 0s 41ms/step - loss: 0.5934 - accuracy: 0.8240 - val_loss: 0.3148 - val_accuracy: 0.9884\n",
      "Epoch 18/1000\n",
      "12/13 [==========================>...] - ETA: 0s - loss: 0.5807 - accuracy: 0.8125\n",
      "Epoch 18: saving model to model/keypoint_classifier\\keypoint_classifier.hdf5\n",
      "13/13 [==============================] - 0s 14ms/step - loss: 0.5809 - accuracy: 0.8137 - val_loss: 0.2788 - val_accuracy: 0.9903\n",
      "Epoch 19/1000\n",
      "11/13 [========================>.....] - ETA: 0s - loss: 0.5319 - accuracy: 0.8409\n",
      "Epoch 19: saving model to model/keypoint_classifier\\keypoint_classifier.hdf5\n",
      "13/13 [==============================] - 0s 15ms/step - loss: 0.5346 - accuracy: 0.8407 - val_loss: 0.2456 - val_accuracy: 0.9961\n",
      "Epoch 20/1000\n",
      "13/13 [==============================] - ETA: 0s - loss: 0.5186 - accuracy: 0.8459\n",
      "Epoch 20: saving model to model/keypoint_classifier\\keypoint_classifier.hdf5\n",
      "13/13 [==============================] - 0s 13ms/step - loss: 0.5186 - accuracy: 0.8459 - val_loss: 0.2241 - val_accuracy: 0.9981\n",
      "Epoch 21/1000\n",
      " 1/13 [=>............................] - ETA: 0s - loss: 0.5833 - accuracy: 0.7969\n",
      "Epoch 21: saving model to model/keypoint_classifier\\keypoint_classifier.hdf5\n",
      "13/13 [==============================] - 0s 13ms/step - loss: 0.5061 - accuracy: 0.8388 - val_loss: 0.2069 - val_accuracy: 0.9981\n",
      "Epoch 22/1000\n",
      "13/13 [==============================] - ETA: 0s - loss: 0.4735 - accuracy: 0.8711\n",
      "Epoch 22: saving model to model/keypoint_classifier\\keypoint_classifier.hdf5\n",
      "13/13 [==============================] - 0s 14ms/step - loss: 0.4735 - accuracy: 0.8711 - val_loss: 0.1876 - val_accuracy: 0.9981\n",
      "Epoch 23/1000\n",
      " 1/13 [=>............................] - ETA: 0s - loss: 0.4085 - accuracy: 0.8906\n",
      "Epoch 23: saving model to model/keypoint_classifier\\keypoint_classifier.hdf5\n",
      "13/13 [==============================] - 0s 19ms/step - loss: 0.4186 - accuracy: 0.8885 - val_loss: 0.1672 - val_accuracy: 0.9981\n",
      "Epoch 24/1000\n",
      "10/13 [======================>.......] - ETA: 0s - loss: 0.4430 - accuracy: 0.8625\n",
      "Epoch 24: saving model to model/keypoint_classifier\\keypoint_classifier.hdf5\n",
      "13/13 [==============================] - 0s 16ms/step - loss: 0.4440 - accuracy: 0.8620 - val_loss: 0.1515 - val_accuracy: 0.9981\n",
      "Epoch 25/1000\n",
      "10/13 [======================>.......] - ETA: 0s - loss: 0.4146 - accuracy: 0.8750\n",
      "Epoch 25: saving model to model/keypoint_classifier\\keypoint_classifier.hdf5\n",
      "13/13 [==============================] - 0s 19ms/step - loss: 0.4239 - accuracy: 0.8756 - val_loss: 0.1455 - val_accuracy: 0.9981\n",
      "Epoch 26/1000\n",
      "11/13 [========================>.....] - ETA: 0s - loss: 0.4304 - accuracy: 0.8764\n",
      "Epoch 26: saving model to model/keypoint_classifier\\keypoint_classifier.hdf5\n",
      "13/13 [==============================] - 0s 22ms/step - loss: 0.4196 - accuracy: 0.8801 - val_loss: 0.1341 - val_accuracy: 0.9981\n",
      "Epoch 27/1000\n",
      "12/13 [==========================>...] - ETA: 0s - loss: 0.3677 - accuracy: 0.8887\n",
      "Epoch 27: saving model to model/keypoint_classifier\\keypoint_classifier.hdf5\n",
      "13/13 [==============================] - 0s 16ms/step - loss: 0.3685 - accuracy: 0.8878 - val_loss: 0.1226 - val_accuracy: 0.9981\n",
      "Epoch 28/1000\n",
      "12/13 [==========================>...] - ETA: 0s - loss: 0.3575 - accuracy: 0.8854\n",
      "Epoch 28: saving model to model/keypoint_classifier\\keypoint_classifier.hdf5\n",
      "13/13 [==============================] - 0s 16ms/step - loss: 0.3587 - accuracy: 0.8852 - val_loss: 0.1102 - val_accuracy: 0.9981\n",
      "Epoch 29/1000\n",
      "11/13 [========================>.....] - ETA: 0s - loss: 0.3743 - accuracy: 0.8906\n",
      "Epoch 29: saving model to model/keypoint_classifier\\keypoint_classifier.hdf5\n",
      "13/13 [==============================] - 0s 17ms/step - loss: 0.3639 - accuracy: 0.8930 - val_loss: 0.1012 - val_accuracy: 0.9981\n",
      "Epoch 30/1000\n",
      " 1/13 [=>............................] - ETA: 0s - loss: 0.3907 - accuracy: 0.8906\n",
      "Epoch 30: saving model to model/keypoint_classifier\\keypoint_classifier.hdf5\n",
      "13/13 [==============================] - 0s 13ms/step - loss: 0.3639 - accuracy: 0.8852 - val_loss: 0.0933 - val_accuracy: 0.9981\n",
      "Epoch 31/1000\n",
      " 1/13 [=>............................] - ETA: 0s - loss: 0.3449 - accuracy: 0.9062\n",
      "Epoch 31: saving model to model/keypoint_classifier\\keypoint_classifier.hdf5\n",
      "13/13 [==============================] - 0s 13ms/step - loss: 0.3593 - accuracy: 0.8846 - val_loss: 0.0887 - val_accuracy: 0.9981\n",
      "Epoch 32/1000\n",
      " 1/13 [=>............................] - ETA: 0s - loss: 0.3149 - accuracy: 0.9062\n",
      "Epoch 32: saving model to model/keypoint_classifier\\keypoint_classifier.hdf5\n",
      "13/13 [==============================] - 0s 13ms/step - loss: 0.3275 - accuracy: 0.8981 - val_loss: 0.0847 - val_accuracy: 0.9981\n",
      "Epoch 33/1000\n",
      " 1/13 [=>............................] - ETA: 0s - loss: 0.4110 - accuracy: 0.8750\n",
      "Epoch 33: saving model to model/keypoint_classifier\\keypoint_classifier.hdf5\n",
      "13/13 [==============================] - 0s 13ms/step - loss: 0.3177 - accuracy: 0.9052 - val_loss: 0.0769 - val_accuracy: 0.9981\n",
      "Epoch 34/1000\n",
      " 1/13 [=>............................] - ETA: 0s - loss: 0.2561 - accuracy: 0.9141\n",
      "Epoch 34: saving model to model/keypoint_classifier\\keypoint_classifier.hdf5\n",
      "13/13 [==============================] - 0s 13ms/step - loss: 0.3283 - accuracy: 0.9046 - val_loss: 0.0733 - val_accuracy: 0.9981\n",
      "Epoch 35/1000\n",
      " 7/13 [===============>..............] - ETA: 0s - loss: 0.3264 - accuracy: 0.9074\n",
      "Epoch 35: saving model to model/keypoint_classifier\\keypoint_classifier.hdf5\n",
      "13/13 [==============================] - 0s 22ms/step - loss: 0.3183 - accuracy: 0.9020 - val_loss: 0.0696 - val_accuracy: 0.9981\n",
      "Epoch 36/1000\n",
      " 1/13 [=>............................] - ETA: 0s - loss: 0.2111 - accuracy: 0.9453\n",
      "Epoch 36: saving model to model/keypoint_classifier\\keypoint_classifier.hdf5\n",
      "13/13 [==============================] - 0s 14ms/step - loss: 0.2976 - accuracy: 0.9162 - val_loss: 0.0652 - val_accuracy: 0.9981\n",
      "Epoch 37/1000\n",
      "12/13 [==========================>...] - ETA: 0s - loss: 0.2879 - accuracy: 0.9108\n",
      "Epoch 37: saving model to model/keypoint_classifier\\keypoint_classifier.hdf5\n",
      "13/13 [==============================] - 0s 14ms/step - loss: 0.2863 - accuracy: 0.9117 - val_loss: 0.0623 - val_accuracy: 0.9981\n",
      "Epoch 38/1000\n",
      " 1/13 [=>............................] - ETA: 0s - loss: 0.4194 - accuracy: 0.8750\n",
      "Epoch 38: saving model to model/keypoint_classifier\\keypoint_classifier.hdf5\n",
      "13/13 [==============================] - 0s 13ms/step - loss: 0.2929 - accuracy: 0.9110 - val_loss: 0.0583 - val_accuracy: 0.9981\n",
      "Epoch 39/1000\n",
      " 1/13 [=>............................] - ETA: 0s - loss: 0.3243 - accuracy: 0.8906\n",
      "Epoch 39: saving model to model/keypoint_classifier\\keypoint_classifier.hdf5\n",
      "13/13 [==============================] - 0s 31ms/step - loss: 0.3001 - accuracy: 0.9084 - val_loss: 0.0538 - val_accuracy: 0.9981\n",
      "Epoch 40/1000\n",
      " 7/13 [===============>..............] - ETA: 0s - loss: 0.2887 - accuracy: 0.9208\n",
      "Epoch 40: saving model to model/keypoint_classifier\\keypoint_classifier.hdf5\n",
      "13/13 [==============================] - 0s 28ms/step - loss: 0.2757 - accuracy: 0.9194 - val_loss: 0.0512 - val_accuracy: 0.9981\n",
      "Epoch 41/1000\n",
      " 1/13 [=>............................] - ETA: 0s - loss: 0.3780 - accuracy: 0.8672\n",
      "Epoch 41: saving model to model/keypoint_classifier\\keypoint_classifier.hdf5\n",
      "13/13 [==============================] - 0s 29ms/step - loss: 0.2767 - accuracy: 0.9136 - val_loss: 0.0489 - val_accuracy: 0.9981\n",
      "Epoch 42/1000\n",
      "10/13 [======================>.......] - ETA: 0s - loss: 0.2840 - accuracy: 0.9187\n",
      "Epoch 42: saving model to model/keypoint_classifier\\keypoint_classifier.hdf5\n",
      "13/13 [==============================] - 0s 27ms/step - loss: 0.2877 - accuracy: 0.9181 - val_loss: 0.0468 - val_accuracy: 0.9981\n",
      "Epoch 43/1000\n",
      " 1/13 [=>............................] - ETA: 0s - loss: 0.1943 - accuracy: 0.9297\n",
      "Epoch 43: saving model to model/keypoint_classifier\\keypoint_classifier.hdf5\n",
      "13/13 [==============================] - 0s 13ms/step - loss: 0.2907 - accuracy: 0.9130 - val_loss: 0.0451 - val_accuracy: 0.9981\n",
      "Epoch 44/1000\n",
      " 1/13 [=>............................] - ETA: 0s - loss: 0.2711 - accuracy: 0.9219\n",
      "Epoch 44: saving model to model/keypoint_classifier\\keypoint_classifier.hdf5\n",
      "13/13 [==============================] - 0s 13ms/step - loss: 0.2620 - accuracy: 0.9162 - val_loss: 0.0439 - val_accuracy: 0.9981\n",
      "Epoch 45/1000\n",
      " 1/13 [=>............................] - ETA: 0s - loss: 0.3015 - accuracy: 0.8828\n",
      "Epoch 45: saving model to model/keypoint_classifier\\keypoint_classifier.hdf5\n",
      "13/13 [==============================] - 0s 13ms/step - loss: 0.2542 - accuracy: 0.9226 - val_loss: 0.0429 - val_accuracy: 0.9981\n",
      "Epoch 46/1000\n",
      "12/13 [==========================>...] - ETA: 0s - loss: 0.2608 - accuracy: 0.9245\n",
      "Epoch 46: saving model to model/keypoint_classifier\\keypoint_classifier.hdf5\n",
      "13/13 [==============================] - 0s 15ms/step - loss: 0.2593 - accuracy: 0.9252 - val_loss: 0.0428 - val_accuracy: 0.9981\n",
      "Epoch 47/1000\n",
      "13/13 [==============================] - ETA: 0s - loss: 0.2751 - accuracy: 0.9110\n",
      "Epoch 47: saving model to model/keypoint_classifier\\keypoint_classifier.hdf5\n",
      "13/13 [==============================] - 0s 15ms/step - loss: 0.2751 - accuracy: 0.9110 - val_loss: 0.0414 - val_accuracy: 0.9981\n",
      "Epoch 48/1000\n",
      "13/13 [==============================] - ETA: 0s - loss: 0.2584 - accuracy: 0.9175\n",
      "Epoch 48: saving model to model/keypoint_classifier\\keypoint_classifier.hdf5\n",
      "13/13 [==============================] - 0s 15ms/step - loss: 0.2584 - accuracy: 0.9175 - val_loss: 0.0410 - val_accuracy: 0.9981\n",
      "Epoch 49/1000\n",
      " 1/13 [=>............................] - ETA: 0s - loss: 0.2262 - accuracy: 0.8984\n",
      "Epoch 49: saving model to model/keypoint_classifier\\keypoint_classifier.hdf5\n",
      "13/13 [==============================] - 0s 16ms/step - loss: 0.2614 - accuracy: 0.9155 - val_loss: 0.0391 - val_accuracy: 0.9981\n",
      "Epoch 50/1000\n",
      "10/13 [======================>.......] - ETA: 0s - loss: 0.2266 - accuracy: 0.9305\n",
      "Epoch 50: saving model to model/keypoint_classifier\\keypoint_classifier.hdf5\n",
      "13/13 [==============================] - 0s 29ms/step - loss: 0.2346 - accuracy: 0.9297 - val_loss: 0.0391 - val_accuracy: 0.9981\n",
      "Epoch 51/1000\n",
      "11/13 [========================>.....] - ETA: 0s - loss: 0.2537 - accuracy: 0.9247\n",
      "Epoch 51: saving model to model/keypoint_classifier\\keypoint_classifier.hdf5\n",
      "13/13 [==============================] - 0s 17ms/step - loss: 0.2505 - accuracy: 0.9259 - val_loss: 0.0363 - val_accuracy: 0.9981\n",
      "Epoch 52/1000\n",
      " 1/13 [=>............................] - ETA: 0s - loss: 0.2772 - accuracy: 0.8828\n",
      "Epoch 52: saving model to model/keypoint_classifier\\keypoint_classifier.hdf5\n",
      "13/13 [==============================] - 0s 14ms/step - loss: 0.2617 - accuracy: 0.9271 - val_loss: 0.0355 - val_accuracy: 0.9981\n",
      "Epoch 53/1000\n",
      " 1/13 [=>............................] - ETA: 0s - loss: 0.1997 - accuracy: 0.9297\n",
      "Epoch 53: saving model to model/keypoint_classifier\\keypoint_classifier.hdf5\n",
      "13/13 [==============================] - 0s 13ms/step - loss: 0.2125 - accuracy: 0.9387 - val_loss: 0.0346 - val_accuracy: 0.9981\n",
      "Epoch 54/1000\n",
      " 1/13 [=>............................] - ETA: 0s - loss: 0.2430 - accuracy: 0.9141\n",
      "Epoch 54: saving model to model/keypoint_classifier\\keypoint_classifier.hdf5\n",
      "13/13 [==============================] - 0s 13ms/step - loss: 0.2432 - accuracy: 0.9252 - val_loss: 0.0337 - val_accuracy: 0.9981\n",
      "Epoch 55/1000\n",
      " 5/13 [==========>...................] - ETA: 0s - loss: 0.1902 - accuracy: 0.9312\n",
      "Epoch 55: saving model to model/keypoint_classifier\\keypoint_classifier.hdf5\n",
      "13/13 [==============================] - 0s 23ms/step - loss: 0.2229 - accuracy: 0.9233 - val_loss: 0.0322 - val_accuracy: 0.9981\n",
      "Epoch 56/1000\n",
      "12/13 [==========================>...] - ETA: 0s - loss: 0.2413 - accuracy: 0.9232\n",
      "Epoch 56: saving model to model/keypoint_classifier\\keypoint_classifier.hdf5\n",
      "13/13 [==============================] - 0s 16ms/step - loss: 0.2428 - accuracy: 0.9226 - val_loss: 0.0340 - val_accuracy: 0.9981\n",
      "Epoch 57/1000\n",
      " 1/13 [=>............................] - ETA: 0s - loss: 0.2111 - accuracy: 0.9297\n",
      "Epoch 57: saving model to model/keypoint_classifier\\keypoint_classifier.hdf5\n",
      "13/13 [==============================] - 0s 14ms/step - loss: 0.2276 - accuracy: 0.9271 - val_loss: 0.0338 - val_accuracy: 0.9981\n",
      "Epoch 58/1000\n",
      "11/13 [========================>.....] - ETA: 0s - loss: 0.2359 - accuracy: 0.9261\n",
      "Epoch 58: saving model to model/keypoint_classifier\\keypoint_classifier.hdf5\n",
      "13/13 [==============================] - 0s 26ms/step - loss: 0.2333 - accuracy: 0.9284 - val_loss: 0.0325 - val_accuracy: 0.9981\n",
      "Epoch 59/1000\n",
      "12/13 [==========================>...] - ETA: 0s - loss: 0.2140 - accuracy: 0.9245\n",
      "Epoch 59: saving model to model/keypoint_classifier\\keypoint_classifier.hdf5\n",
      "13/13 [==============================] - 0s 22ms/step - loss: 0.2148 - accuracy: 0.9246 - val_loss: 0.0314 - val_accuracy: 0.9981\n",
      "Epoch 60/1000\n",
      "11/13 [========================>.....] - ETA: 0s - loss: 0.2113 - accuracy: 0.9304\n",
      "Epoch 60: saving model to model/keypoint_classifier\\keypoint_classifier.hdf5\n",
      "13/13 [==============================] - 0s 27ms/step - loss: 0.2153 - accuracy: 0.9284 - val_loss: 0.0321 - val_accuracy: 0.9981\n",
      "Epoch 61/1000\n",
      " 1/13 [=>............................] - ETA: 0s - loss: 0.1366 - accuracy: 0.9531\n",
      "Epoch 61: saving model to model/keypoint_classifier\\keypoint_classifier.hdf5\n",
      "13/13 [==============================] - 0s 29ms/step - loss: 0.2336 - accuracy: 0.9323 - val_loss: 0.0335 - val_accuracy: 0.9981\n",
      "Epoch 62/1000\n",
      "12/13 [==========================>...] - ETA: 0s - loss: 0.2285 - accuracy: 0.9277\n",
      "Epoch 62: saving model to model/keypoint_classifier\\keypoint_classifier.hdf5\n",
      "13/13 [==============================] - 0s 18ms/step - loss: 0.2288 - accuracy: 0.9271 - val_loss: 0.0314 - val_accuracy: 0.9981\n",
      "Epoch 63/1000\n",
      "12/13 [==========================>...] - ETA: 0s - loss: 0.2140 - accuracy: 0.9382\n",
      "Epoch 63: saving model to model/keypoint_classifier\\keypoint_classifier.hdf5\n",
      "13/13 [==============================] - 1s 41ms/step - loss: 0.2153 - accuracy: 0.9375 - val_loss: 0.0302 - val_accuracy: 0.9981\n",
      "Epoch 64/1000\n",
      "10/13 [======================>.......] - ETA: 0s - loss: 0.2044 - accuracy: 0.9367\n",
      "Epoch 64: saving model to model/keypoint_classifier\\keypoint_classifier.hdf5\n",
      "13/13 [==============================] - 0s 35ms/step - loss: 0.2209 - accuracy: 0.9329 - val_loss: 0.0295 - val_accuracy: 0.9981\n",
      "Epoch 65/1000\n",
      "12/13 [==========================>...] - ETA: 0s - loss: 0.2198 - accuracy: 0.9382\n",
      "Epoch 65: saving model to model/keypoint_classifier\\keypoint_classifier.hdf5\n",
      "13/13 [==============================] - 0s 24ms/step - loss: 0.2201 - accuracy: 0.9375 - val_loss: 0.0292 - val_accuracy: 0.9981\n",
      "Epoch 66/1000\n",
      "13/13 [==============================] - ETA: 0s - loss: 0.2254 - accuracy: 0.9317\n",
      "Epoch 66: saving model to model/keypoint_classifier\\keypoint_classifier.hdf5\n",
      "13/13 [==============================] - 0s 20ms/step - loss: 0.2254 - accuracy: 0.9317 - val_loss: 0.0298 - val_accuracy: 0.9981\n",
      "Epoch 67/1000\n",
      "11/13 [========================>.....] - ETA: 0s - loss: 0.2148 - accuracy: 0.9318\n",
      "Epoch 67: saving model to model/keypoint_classifier\\keypoint_classifier.hdf5\n",
      "13/13 [==============================] - 0s 22ms/step - loss: 0.2226 - accuracy: 0.9304 - val_loss: 0.0294 - val_accuracy: 0.9981\n",
      "Epoch 68/1000\n",
      "10/13 [======================>.......] - ETA: 0s - loss: 0.2037 - accuracy: 0.9391\n",
      "Epoch 68: saving model to model/keypoint_classifier\\keypoint_classifier.hdf5\n",
      "13/13 [==============================] - 0s 22ms/step - loss: 0.1953 - accuracy: 0.9400 - val_loss: 0.0291 - val_accuracy: 0.9981\n",
      "Epoch 69/1000\n",
      "11/13 [========================>.....] - ETA: 0s - loss: 0.1961 - accuracy: 0.9403\n",
      "Epoch 69: saving model to model/keypoint_classifier\\keypoint_classifier.hdf5\n",
      "13/13 [==============================] - 0s 20ms/step - loss: 0.1969 - accuracy: 0.9400 - val_loss: 0.0280 - val_accuracy: 0.9981\n",
      "Epoch 70/1000\n",
      "12/13 [==========================>...] - ETA: 0s - loss: 0.2248 - accuracy: 0.9251\n",
      "Epoch 70: saving model to model/keypoint_classifier\\keypoint_classifier.hdf5\n",
      "13/13 [==============================] - 0s 34ms/step - loss: 0.2233 - accuracy: 0.9259 - val_loss: 0.0280 - val_accuracy: 0.9981\n",
      "Epoch 71/1000\n",
      " 9/13 [===================>..........] - ETA: 0s - loss: 0.2015 - accuracy: 0.9401\n",
      "Epoch 71: saving model to model/keypoint_classifier\\keypoint_classifier.hdf5\n",
      "13/13 [==============================] - 0s 25ms/step - loss: 0.2066 - accuracy: 0.9420 - val_loss: 0.0274 - val_accuracy: 0.9981\n",
      "Epoch 72/1000\n",
      "12/13 [==========================>...] - ETA: 0s - loss: 0.2127 - accuracy: 0.9329\n",
      "Epoch 72: saving model to model/keypoint_classifier\\keypoint_classifier.hdf5\n",
      "13/13 [==============================] - 0s 16ms/step - loss: 0.2110 - accuracy: 0.9336 - val_loss: 0.0280 - val_accuracy: 0.9981\n",
      "Epoch 73/1000\n",
      "13/13 [==============================] - ETA: 0s - loss: 0.1984 - accuracy: 0.9381\n",
      "Epoch 73: saving model to model/keypoint_classifier\\keypoint_classifier.hdf5\n",
      "13/13 [==============================] - 0s 16ms/step - loss: 0.1984 - accuracy: 0.9381 - val_loss: 0.0272 - val_accuracy: 0.9981\n",
      "Epoch 74/1000\n",
      "12/13 [==========================>...] - ETA: 0s - loss: 0.2036 - accuracy: 0.9382\n",
      "Epoch 74: saving model to model/keypoint_classifier\\keypoint_classifier.hdf5\n",
      "13/13 [==============================] - 0s 18ms/step - loss: 0.2029 - accuracy: 0.9381 - val_loss: 0.0268 - val_accuracy: 0.9981\n",
      "Epoch 75/1000\n",
      "13/13 [==============================] - ETA: 0s - loss: 0.2182 - accuracy: 0.9362\n",
      "Epoch 75: saving model to model/keypoint_classifier\\keypoint_classifier.hdf5\n",
      "13/13 [==============================] - 0s 14ms/step - loss: 0.2182 - accuracy: 0.9362 - val_loss: 0.0267 - val_accuracy: 0.9981\n",
      "Epoch 76/1000\n",
      " 1/13 [=>............................] - ETA: 0s - loss: 0.2541 - accuracy: 0.9062\n",
      "Epoch 76: saving model to model/keypoint_classifier\\keypoint_classifier.hdf5\n",
      "13/13 [==============================] - 0s 14ms/step - loss: 0.1873 - accuracy: 0.9375 - val_loss: 0.0263 - val_accuracy: 0.9981\n",
      "Epoch 77/1000\n",
      "13/13 [==============================] - ETA: 0s - loss: 0.1936 - accuracy: 0.9394\n",
      "Epoch 77: saving model to model/keypoint_classifier\\keypoint_classifier.hdf5\n",
      "13/13 [==============================] - 0s 17ms/step - loss: 0.1936 - accuracy: 0.9394 - val_loss: 0.0266 - val_accuracy: 0.9981\n",
      "Epoch 78/1000\n",
      "13/13 [==============================] - ETA: 0s - loss: 0.1915 - accuracy: 0.9362\n",
      "Epoch 78: saving model to model/keypoint_classifier\\keypoint_classifier.hdf5\n",
      "13/13 [==============================] - 0s 33ms/step - loss: 0.1915 - accuracy: 0.9362 - val_loss: 0.0270 - val_accuracy: 0.9981\n",
      "Epoch 79/1000\n",
      " 1/13 [=>............................] - ETA: 0s - loss: 0.1523 - accuracy: 0.9609\n",
      "Epoch 79: saving model to model/keypoint_classifier\\keypoint_classifier.hdf5\n",
      "13/13 [==============================] - 0s 18ms/step - loss: 0.2120 - accuracy: 0.9317 - val_loss: 0.0275 - val_accuracy: 0.9981\n",
      "Epoch 80/1000\n",
      "11/13 [========================>.....] - ETA: 0s - loss: 0.1829 - accuracy: 0.9531\n",
      "Epoch 80: saving model to model/keypoint_classifier\\keypoint_classifier.hdf5\n",
      "13/13 [==============================] - 0s 19ms/step - loss: 0.1785 - accuracy: 0.9549 - val_loss: 0.0270 - val_accuracy: 0.9981\n",
      "Epoch 81/1000\n",
      "12/13 [==========================>...] - ETA: 0s - loss: 0.1750 - accuracy: 0.9505\n",
      "Epoch 81: saving model to model/keypoint_classifier\\keypoint_classifier.hdf5\n",
      "13/13 [==============================] - 0s 18ms/step - loss: 0.1742 - accuracy: 0.9510 - val_loss: 0.0258 - val_accuracy: 0.9981\n",
      "Epoch 82/1000\n",
      "13/13 [==============================] - ETA: 0s - loss: 0.1928 - accuracy: 0.9368\n",
      "Epoch 82: saving model to model/keypoint_classifier\\keypoint_classifier.hdf5\n",
      "13/13 [==============================] - 0s 15ms/step - loss: 0.1928 - accuracy: 0.9368 - val_loss: 0.0257 - val_accuracy: 0.9981\n",
      "Epoch 83/1000\n",
      " 1/13 [=>............................] - ETA: 0s - loss: 0.1784 - accuracy: 0.9297\n",
      "Epoch 83: saving model to model/keypoint_classifier\\keypoint_classifier.hdf5\n",
      "13/13 [==============================] - 0s 14ms/step - loss: 0.1992 - accuracy: 0.9394 - val_loss: 0.0251 - val_accuracy: 0.9981\n",
      "Epoch 84/1000\n",
      "12/13 [==========================>...] - ETA: 0s - loss: 0.1836 - accuracy: 0.9447\n",
      "Epoch 84: saving model to model/keypoint_classifier\\keypoint_classifier.hdf5\n",
      "13/13 [==============================] - 0s 17ms/step - loss: 0.1828 - accuracy: 0.9446 - val_loss: 0.0244 - val_accuracy: 0.9981\n",
      "Epoch 85/1000\n",
      "11/13 [========================>.....] - ETA: 0s - loss: 0.1847 - accuracy: 0.9382\n",
      "Epoch 85: saving model to model/keypoint_classifier\\keypoint_classifier.hdf5\n",
      "13/13 [==============================] - 0s 19ms/step - loss: 0.1810 - accuracy: 0.9394 - val_loss: 0.0243 - val_accuracy: 0.9981\n",
      "Epoch 86/1000\n",
      "11/13 [========================>.....] - ETA: 0s - loss: 0.1752 - accuracy: 0.9545\n",
      "Epoch 86: saving model to model/keypoint_classifier\\keypoint_classifier.hdf5\n",
      "13/13 [==============================] - 0s 22ms/step - loss: 0.1710 - accuracy: 0.9562 - val_loss: 0.0243 - val_accuracy: 0.9981\n",
      "Epoch 87/1000\n",
      " 9/13 [===================>..........] - ETA: 0s - loss: 0.1755 - accuracy: 0.9444\n",
      "Epoch 87: saving model to model/keypoint_classifier\\keypoint_classifier.hdf5\n",
      "13/13 [==============================] - 0s 24ms/step - loss: 0.1756 - accuracy: 0.9458 - val_loss: 0.0241 - val_accuracy: 0.9981\n",
      "Epoch 88/1000\n",
      " 9/13 [===================>..........] - ETA: 0s - loss: 0.1753 - accuracy: 0.9418\n",
      "Epoch 88: saving model to model/keypoint_classifier\\keypoint_classifier.hdf5\n",
      "13/13 [==============================] - 0s 20ms/step - loss: 0.1772 - accuracy: 0.9433 - val_loss: 0.0233 - val_accuracy: 0.9981\n",
      "Epoch 89/1000\n",
      "10/13 [======================>.......] - ETA: 0s - loss: 0.2004 - accuracy: 0.9383\n",
      "Epoch 89: saving model to model/keypoint_classifier\\keypoint_classifier.hdf5\n",
      "13/13 [==============================] - 0s 21ms/step - loss: 0.2075 - accuracy: 0.9375 - val_loss: 0.0235 - val_accuracy: 0.9981\n",
      "Epoch 90/1000\n",
      "12/13 [==========================>...] - ETA: 0s - loss: 0.1779 - accuracy: 0.9453\n",
      "Epoch 90: saving model to model/keypoint_classifier\\keypoint_classifier.hdf5\n",
      "13/13 [==============================] - 0s 18ms/step - loss: 0.1793 - accuracy: 0.9452 - val_loss: 0.0249 - val_accuracy: 0.9981\n",
      "Epoch 91/1000\n",
      "11/13 [========================>.....] - ETA: 0s - loss: 0.1850 - accuracy: 0.9339\n",
      "Epoch 91: saving model to model/keypoint_classifier\\keypoint_classifier.hdf5\n",
      "13/13 [==============================] - 0s 19ms/step - loss: 0.1908 - accuracy: 0.9349 - val_loss: 0.0251 - val_accuracy: 0.9981\n",
      "Epoch 92/1000\n",
      " 1/13 [=>............................] - ETA: 0s - loss: 0.1452 - accuracy: 0.9609\n",
      "Epoch 92: saving model to model/keypoint_classifier\\keypoint_classifier.hdf5\n",
      "13/13 [==============================] - 0s 13ms/step - loss: 0.1851 - accuracy: 0.9375 - val_loss: 0.0250 - val_accuracy: 0.9981\n",
      "Epoch 93/1000\n",
      "12/13 [==========================>...] - ETA: 0s - loss: 0.1890 - accuracy: 0.9375\n",
      "Epoch 93: saving model to model/keypoint_classifier\\keypoint_classifier.hdf5\n",
      "13/13 [==============================] - 0s 27ms/step - loss: 0.1946 - accuracy: 0.9368 - val_loss: 0.0252 - val_accuracy: 0.9981\n",
      "Epoch 94/1000\n",
      "13/13 [==============================] - ETA: 0s - loss: 0.1729 - accuracy: 0.9420\n",
      "Epoch 94: saving model to model/keypoint_classifier\\keypoint_classifier.hdf5\n",
      "13/13 [==============================] - 0s 29ms/step - loss: 0.1729 - accuracy: 0.9420 - val_loss: 0.0247 - val_accuracy: 0.9981\n",
      "Epoch 95/1000\n",
      " 8/13 [=================>............] - ETA: 0s - loss: 0.1777 - accuracy: 0.9463\n",
      "Epoch 95: saving model to model/keypoint_classifier\\keypoint_classifier.hdf5\n",
      "13/13 [==============================] - 1s 50ms/step - loss: 0.1747 - accuracy: 0.9426 - val_loss: 0.0244 - val_accuracy: 0.9981\n",
      "Epoch 96/1000\n",
      "11/13 [========================>.....] - ETA: 0s - loss: 0.1844 - accuracy: 0.9368\n",
      "Epoch 96: saving model to model/keypoint_classifier\\keypoint_classifier.hdf5\n",
      "13/13 [==============================] - 1s 43ms/step - loss: 0.1810 - accuracy: 0.9387 - val_loss: 0.0245 - val_accuracy: 0.9981\n",
      "Epoch 97/1000\n",
      "11/13 [========================>.....] - ETA: 0s - loss: 0.1950 - accuracy: 0.9439\n",
      "Epoch 97: saving model to model/keypoint_classifier\\keypoint_classifier.hdf5\n",
      "13/13 [==============================] - 0s 36ms/step - loss: 0.1949 - accuracy: 0.9446 - val_loss: 0.0247 - val_accuracy: 0.9981\n",
      "Epoch 98/1000\n",
      "10/13 [======================>.......] - ETA: 0s - loss: 0.1905 - accuracy: 0.9367\n",
      "Epoch 98: saving model to model/keypoint_classifier\\keypoint_classifier.hdf5\n",
      "13/13 [==============================] - 0s 29ms/step - loss: 0.1876 - accuracy: 0.9349 - val_loss: 0.0246 - val_accuracy: 0.9981\n",
      "Epoch 99/1000\n",
      "12/13 [==========================>...] - ETA: 0s - loss: 0.1578 - accuracy: 0.9570\n",
      "Epoch 99: saving model to model/keypoint_classifier\\keypoint_classifier.hdf5\n",
      "13/13 [==============================] - 0s 29ms/step - loss: 0.1590 - accuracy: 0.9568 - val_loss: 0.0242 - val_accuracy: 0.9981\n",
      "Epoch 100/1000\n",
      " 9/13 [===================>..........] - ETA: 0s - loss: 0.2162 - accuracy: 0.9340\n",
      "Epoch 100: saving model to model/keypoint_classifier\\keypoint_classifier.hdf5\n",
      "13/13 [==============================] - 0s 38ms/step - loss: 0.2077 - accuracy: 0.9368 - val_loss: 0.0251 - val_accuracy: 0.9981\n",
      "Epoch 101/1000\n",
      "10/13 [======================>.......] - ETA: 0s - loss: 0.1650 - accuracy: 0.9469\n",
      "Epoch 101: saving model to model/keypoint_classifier\\keypoint_classifier.hdf5\n",
      "13/13 [==============================] - 0s 30ms/step - loss: 0.1684 - accuracy: 0.9452 - val_loss: 0.0261 - val_accuracy: 0.9981\n",
      "Epoch 102/1000\n",
      " 8/13 [=================>............] - ETA: 0s - loss: 0.1334 - accuracy: 0.9697\n",
      "Epoch 102: saving model to model/keypoint_classifier\\keypoint_classifier.hdf5\n",
      "13/13 [==============================] - 0s 27ms/step - loss: 0.1552 - accuracy: 0.9574 - val_loss: 0.0246 - val_accuracy: 0.9981\n",
      "Epoch 103/1000\n",
      "10/13 [======================>.......] - ETA: 0s - loss: 0.1542 - accuracy: 0.9492\n",
      "Epoch 103: saving model to model/keypoint_classifier\\keypoint_classifier.hdf5\n",
      "13/13 [==============================] - 0s 22ms/step - loss: 0.1590 - accuracy: 0.9471 - val_loss: 0.0243 - val_accuracy: 0.9981\n",
      "Epoch 104/1000\n",
      " 1/13 [=>............................] - ETA: 0s - loss: 0.1173 - accuracy: 0.9688\n",
      "Epoch 104: saving model to model/keypoint_classifier\\keypoint_classifier.hdf5\n",
      "13/13 [==============================] - 0s 14ms/step - loss: 0.1665 - accuracy: 0.9471 - val_loss: 0.0250 - val_accuracy: 0.9981\n",
      "Epoch 105/1000\n",
      "12/13 [==========================>...] - ETA: 0s - loss: 0.1720 - accuracy: 0.9388\n",
      "Epoch 105: saving model to model/keypoint_classifier\\keypoint_classifier.hdf5\n",
      "13/13 [==============================] - 0s 30ms/step - loss: 0.1712 - accuracy: 0.9394 - val_loss: 0.0263 - val_accuracy: 0.9981\n",
      "Epoch 106/1000\n",
      " 1/13 [=>............................] - ETA: 0s - loss: 0.2116 - accuracy: 0.9453\n",
      "Epoch 106: saving model to model/keypoint_classifier\\keypoint_classifier.hdf5\n",
      "13/13 [==============================] - 0s 18ms/step - loss: 0.1752 - accuracy: 0.9426 - val_loss: 0.0253 - val_accuracy: 0.9981\n",
      "Epoch 107/1000\n",
      "10/13 [======================>.......] - ETA: 0s - loss: 0.1678 - accuracy: 0.9461\n",
      "Epoch 107: saving model to model/keypoint_classifier\\keypoint_classifier.hdf5\n",
      "13/13 [==============================] - 0s 17ms/step - loss: 0.1674 - accuracy: 0.9484 - val_loss: 0.0246 - val_accuracy: 0.9981\n",
      "Epoch 108/1000\n",
      " 1/13 [=>............................] - ETA: 0s - loss: 0.1480 - accuracy: 0.9609\n",
      "Epoch 108: saving model to model/keypoint_classifier\\keypoint_classifier.hdf5\n",
      "13/13 [==============================] - 0s 15ms/step - loss: 0.1639 - accuracy: 0.9484 - val_loss: 0.0247 - val_accuracy: 0.9981\n",
      "Epoch 108: early stopping\n"
     ]
    },
    {
     "data": {
      "text/plain": [
       "<keras.src.callbacks.History at 0x1e6f0c59820>"
      ]
     },
     "execution_count": 143,
     "metadata": {},
     "output_type": "execute_result"
    }
   ],
   "source": [
    "    model.fit(\n",
    "        X_train,\n",
    "        y_train,\n",
    "        epochs=1000,\n",
    "        batch_size=128,\n",
    "        validation_data=(X_test, y_test),\n",
    "        callbacks=[cp_callback, es_callback]\n",
    "    )"
   ]
  },
  {
   "cell_type": "code",
   "execution_count": 144,
   "metadata": {},
   "outputs": [
    {
     "name": "stdout",
     "output_type": "stream",
     "text": [
      "5/5 [==============================] - 0s 5ms/step - loss: 0.0247 - accuracy: 0.9981\n"
     ]
    }
   ],
   "source": [
    "# モデル評価\n",
    "val_loss, val_acc = model.evaluate(X_test, y_test, batch_size=128)"
   ]
  },
  {
   "cell_type": "code",
   "execution_count": 145,
   "metadata": {},
   "outputs": [],
   "source": [
    "# 保存したモデルのロード\n",
    "model = tf.keras.models.load_model(model_save_path)"
   ]
  },
  {
   "cell_type": "code",
   "execution_count": 146,
   "metadata": {},
   "outputs": [
    {
     "name": "stdout",
     "output_type": "stream",
     "text": [
      "1/1 [==============================] - 0s 146ms/step\n",
      "[1.3579443e-04 5.2985095e-05 9.9515569e-01 2.5117683e-06 8.4468629e-05\n",
      " 1.2454442e-05 4.5560044e-03]\n",
      "2\n"
     ]
    }
   ],
   "source": [
    "# 推論テスト\n",
    "predict_result = model.predict(np.array([X_test[0]]))\n",
    "print(np.squeeze(predict_result))\n",
    "print(np.argmax(np.squeeze(predict_result)))"
   ]
  },
  {
   "cell_type": "markdown",
   "metadata": {},
   "source": [
    "# 混同行列"
   ]
  },
  {
   "cell_type": "code",
   "execution_count": 147,
   "metadata": {},
   "outputs": [
    {
     "name": "stdout",
     "output_type": "stream",
     "text": [
      "17/17 [==============================] - 0s 2ms/step\n"
     ]
    },
    {
     "data": {
      "image/png": "[encoded data removed]",
      "text/plain": [
       "<Figure size 700x600 with 2 Axes>"
      ]
     },
     "metadata": {},
     "output_type": "display_data"
    },
    {
     "name": "stdout",
     "output_type": "stream",
     "text": [
      "Classification Report\n",
      "              precision    recall  f1-score   support\n",
      "\n",
      "           2       1.00      1.00      1.00        77\n",
      "           3       1.00      1.00      1.00       201\n",
      "           4       1.00      1.00      1.00        63\n",
      "           5       1.00      0.99      0.99        88\n",
      "           6       1.00      1.00      1.00        88\n",
      "\n",
      "    accuracy                           1.00       517\n",
      "   macro avg       1.00      1.00      1.00       517\n",
      "weighted avg       1.00      1.00      1.00       517\n",
      "\n"
     ]
    }
   ],
   "source": [
    "import pandas as pd\n",
    "import seaborn as sns\n",
    "import matplotlib.pyplot as plt\n",
    "from sklearn.metrics import confusion_matrix, classification_report\n",
    "\n",
    "def print_confusion_matrix(y_true, y_pred, report=True):\n",
    "    labels = sorted(list(set(y_true)))\n",
    "    cmx_data = confusion_matrix(y_true, y_pred, labels=labels)\n",
    "    \n",
    "    df_cmx = pd.DataFrame(cmx_data, index=labels, columns=labels)\n",
    " \n",
    "    fig, ax = plt.subplots(figsize=(7, 6))\n",
    "    sns.heatmap(df_cmx, annot=True, fmt='g' ,square=False)\n",
    "    ax.set_ylim(len(set(y_true)), 0)\n",
    "    plt.show()\n",
    "    \n",
    "    if report:\n",
    "        print('Classification Report')\n",
    "        print(classification_report(y_test, y_pred))\n",
    "\n",
    "Y_pred = model.predict(X_test)\n",
    "y_pred = np.argmax(Y_pred, axis=1)\n",
    "\n",
    "print_confusion_matrix(y_test, y_pred)"
   ]
  },
  {
   "cell_type": "markdown",
   "metadata": {},
   "source": [
    "# Tensorflow-Lite用のモデルへ変換"
   ]
  },
  {
   "cell_type": "code",
   "execution_count": 148,
   "metadata": {},
   "outputs": [
    {
     "name": "stderr",
     "output_type": "stream",
     "text": [
      "c:\\users\\user\\appdata\\local\\programs\\python\\python38\\lib\\site-packages\\keras\\src\\engine\\training.py:3000: UserWarning: You are saving your model as an HDF5 file via `model.save()`. This file format is considered legacy. We recommend using instead the native Keras format, e.g. `model.save('my_model.keras')`.\n",
      "  saving_api.save_model(\n"
     ]
    }
   ],
   "source": [
    "# 推論専用のモデルとして保存\n",
    "model.save(model_save_path, include_optimizer=False)"
   ]
  },
  {
   "cell_type": "code",
   "execution_count": 149,
   "metadata": {},
   "outputs": [
    {
     "name": "stdout",
     "output_type": "stream",
     "text": [
      "INFO:tensorflow:Assets written to: C:\\Users\\User\\AppData\\Local\\Temp\\tmpdj102axb\\assets\n"
     ]
    },
    {
     "name": "stderr",
     "output_type": "stream",
     "text": [
      "INFO:tensorflow:Assets written to: C:\\Users\\User\\AppData\\Local\\Temp\\tmpdj102axb\\assets\n"
     ]
    },
    {
     "data": {
      "text/plain": [
       "6740"
      ]
     },
     "execution_count": 149,
     "metadata": {},
     "output_type": "execute_result"
    }
   ],
   "source": [
    "# モデルを変換(量子化)\n",
    "tflite_save_path = 'model/keypoint_classifier/keypoint_classifier.tflite'\n",
    "\n",
    "converter = tf.lite.TFLiteConverter.from_keras_model(model)\n",
    "converter.optimizations = [tf.lite.Optimize.DEFAULT]\n",
    "tflite_quantized_model = converter.convert()\n",
    "\n",
    "open(tflite_save_path, 'wb').write(tflite_quantized_model)"
   ]
  },
  {
   "cell_type": "markdown",
   "metadata": {},
   "source": [
    "# 推論テスト"
   ]
  },
  {
   "cell_type": "code",
   "execution_count": 150,
   "metadata": {},
   "outputs": [],
   "source": [
    "interpreter = tf.lite.Interpreter(model_path=tflite_save_path)\n",
    "interpreter.allocate_tensors()"
   ]
  },
  {
   "cell_type": "code",
   "execution_count": 151,
   "metadata": {},
   "outputs": [],
   "source": [
    "# 入出力テンソルを取得\n",
    "input_details = interpreter.get_input_details()\n",
    "output_details = interpreter.get_output_details()"
   ]
  },
  {
   "cell_type": "code",
   "execution_count": 152,
   "metadata": {},
   "outputs": [],
   "source": [
    "interpreter.set_tensor(input_details[0]['index'], np.array([X_test[0]]))"
   ]
  },
  {
   "cell_type": "code",
   "execution_count": 153,
   "metadata": {
    "scrolled": true
   },
   "outputs": [
    {
     "name": "stdout",
     "output_type": "stream",
     "text": [
      "CPU times: total: 0 ns\n",
      "Wall time: 0 ns\n"
     ]
    }
   ],
   "source": [
    "%%time\n",
    "# 推論実施\n",
    "interpreter.invoke()\n",
    "tflite_results = interpreter.get_tensor(output_details[0]['index'])"
   ]
  },
  {
   "cell_type": "code",
   "execution_count": 154,
   "metadata": {},
   "outputs": [
    {
     "name": "stdout",
     "output_type": "stream",
     "text": [
      "[1.3579430e-04 5.2985095e-05 9.9515581e-01 2.5117686e-06 8.4468644e-05\n",
      " 1.2454431e-05 4.5560091e-03]\n",
      "2\n"
     ]
    }
   ],
   "source": [
    "print(np.squeeze(tflite_results))\n",
    "print(np.argmax(np.squeeze(tflite_results)))"
   ]
  }
 ],
 "metadata": {
  "kernelspec": {
   "display_name": "Python 3 (ipykernel)",
   "language": "python",
   "name": "python3"
  },
  "language_info": {
   "codemirror_mode": {
    "name": "ipython",
    "version": 3
   },
   "file_extension": ".py",
   "mimetype": "text/x-python",
   "name": "python",
   "nbconvert_exporter": "python",
   "pygments_lexer": "ipython3",
   "version": "3.8.10"
  }
 },
 "nbformat": 4,
 "nbformat_minor": 4
}
